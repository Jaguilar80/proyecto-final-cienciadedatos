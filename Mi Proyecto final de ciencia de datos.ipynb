{
 "cells": [
  {
   "cell_type": "markdown",
   "id": "65fe672e-3c6a-4ba1-aafd-80b818918d2d",
   "metadata": {},
   "source": [
    "# Proyecto Final de Ciencia de Datos"
   ]
  },
  {
   "cell_type": "markdown",
   "id": "6a3af8d9-194b-4ab7-8bd2-8462325991e8",
   "metadata": {},
   "source": [
    "## Introducción\n",
    "\n",
    "En este cuaderno se desarrollarán ejercicios prácticos sobre conceptos básicos de ciencia de datos, utilizando Python y herramientas como JupyterLite Notebook. El objetivo es demostrar el uso de celdas Markdown y código, así como operaciones matemáticas y manejo de datos.\n"
   ]
  },
  {
   "cell_type": "markdown",
   "id": "618614ce-14e2-481a-9300-c33868f43aed",
   "metadata": {},
   "source": [
    "### Lenguajes comunes en Ciencia de Datos\n",
    "\n",
    "1. Python\n",
    "2. R\n",
    "3. SQL\n",
    "4. Julia\n",
    "5. Scala\n",
    "6. Java\n"
   ]
  },
  {
   "cell_type": "markdown",
   "id": "ebfeb9a0-263b-4125-a06d-b093c69255e5",
   "metadata": {},
   "source": [
    "### Bibliotecas populares en Python para Ciencia de Datos\n",
    "\n",
    "- Numpy\n",
    "- Pandas\n",
    "- Matplotlib\n",
    "- Seaborn\n",
    "- Scikit-learn\n",
    "- TensorFlow\n",
    "- Keras\n",
    "- PyTorch\n"
   ]
  },
  {
   "cell_type": "markdown",
   "id": "f582bcd1-b52a-49b1-bff4-ad1ff7a6b0fc",
   "metadata": {},
   "source": [
    "### Herramientas de Ciencia de Datos\n",
    "\n",
    "| Herramienta    | Descripción                          |\n",
    "|----------------|--------------------------------------|\n",
    "| Jupyter        | Cuadernos interactivos               |\n",
    "| Anaconda       | Distribución de paquetes de Python    |\n",
    "| Tableau        | Visualización de datos               |\n",
    "| Power BI       | Visualización y análisis de datos    |\n",
    "| GitHub         | Control de versiones                 |\n"
   ]
  },
  {
   "cell_type": "markdown",
   "id": "c8877ced-8c15-4659-b724-94a1fdb61152",
   "metadata": {},
   "source": [
    "### Ejemplos de expresiones aritméticas en Python\n",
    "\n",
    "- Suma: `2 + 2`\n",
    "- Resta: `5 - 3`\n",
    "- Multiplicación: `4 * 7`\n",
    "- División: `10 / 2`\n"
   ]
  },
  {
   "cell_type": "code",
   "execution_count": 4,
   "id": "51b93c60-312e-456c-9bbc-04bc1d4cb970",
   "metadata": {},
   "outputs": [
    {
     "name": "stdout",
     "output_type": "stream",
     "text": [
      "Multiplicación: 15\n",
      "Suma: 8\n"
     ]
    }
   ],
   "source": [
    "# Multiplicación y suma de dos números\n",
    "a = 5\n",
    "b = 3\n",
    "multiplicacion = a * b\n",
    "suma = a + b\n",
    "print(\"Multiplicación:\", multiplicacion)\n",
    "print(\"Suma:\", suma)\n"
   ]
  },
  {
   "cell_type": "code",
   "execution_count": 5,
   "id": "b11c54bf-31c1-4899-b7d8-b73fca8e9b52",
   "metadata": {},
   "outputs": [
    {
     "name": "stdout",
     "output_type": "stream",
     "text": [
      "Horas: 2.5\n"
     ]
    }
   ],
   "source": [
    "# Conversión de minutos a horas\n",
    "minutos = 150\n",
    "horas = minutos / 60\n",
    "print(\"Horas:\", horas)\n"
   ]
  },
  {
   "cell_type": "code",
   "execution_count": 6,
   "id": "b0459323-d8ea-4ee3-b986-929cf1d506d6",
   "metadata": {},
   "outputs": [
    {
     "name": "stdout",
     "output_type": "stream",
     "text": [
      "- Aprender fundamentos de Python\n",
      "- Manejar bibliotecas de ciencia de datos\n",
      "- Realizar análisis exploratorio de datos\n",
      "- Aplicar visualización de datos\n"
     ]
    }
   ],
   "source": [
    "# Lista de objetivos del curso\n",
    "objetivos = [\n",
    "    \"Aprender fundamentos de Python\",\n",
    "    \"Manejar bibliotecas de ciencia de datos\",\n",
    "    \"Realizar análisis exploratorio de datos\",\n",
    "    \"Aplicar visualización de datos\"\n",
    "]\n",
    "for objetivo in objetivos:\n",
    "    print(\"-\", objetivo)\n"
   ]
  },
  {
   "cell_type": "markdown",
   "id": "52f59304-f383-4fba-b1c7-246794e32b01",
   "metadata": {},
   "source": [
    "**Autor:** Joaquin Aguilar Castillo - U20211A654\n"
   ]
  },
  {
   "cell_type": "code",
   "execution_count": null,
   "id": "33d12822-d418-4d01-be38-f0faed8fbb30",
   "metadata": {},
   "outputs": [],
   "source": []
  }
 ],
 "metadata": {
  "kernelspec": {
   "display_name": "Python 3 (ipykernel)",
   "language": "python",
   "name": "python3"
  },
  "language_info": {
   "codemirror_mode": {
    "name": "ipython",
    "version": 3
   },
   "file_extension": ".py",
   "mimetype": "text/x-python",
   "name": "python",
   "nbconvert_exporter": "python",
   "pygments_lexer": "ipython3",
   "version": "3.12.8"
  }
 },
 "nbformat": 4,
 "nbformat_minor": 5
}
